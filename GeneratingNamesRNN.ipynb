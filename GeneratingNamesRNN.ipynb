{
  "nbformat": 4,
  "nbformat_minor": 0,
  "metadata": {
    "colab": {
      "name": "GeneratingNamesRNN.ipynb",
      "provenance": [],
      "authorship_tag": "ABX9TyOGWamJxZt+SxhGImOvAJBL",
      "include_colab_link": true
    },
    "kernelspec": {
      "name": "python3",
      "display_name": "Python 3"
    }
  },
  "cells": [
    {
      "cell_type": "markdown",
      "metadata": {
        "id": "view-in-github",
        "colab_type": "text"
      },
      "source": [
        "<a href=\"https://colab.research.google.com/github/ahsanabbas123/NLP-From-Scratch/blob/master/GeneratingNamesRNN.ipynb\" target=\"_parent\"><img src=\"https://colab.research.google.com/assets/colab-badge.svg\" alt=\"Open In Colab\"/></a>"
      ]
    },
    {
      "cell_type": "code",
      "metadata": {
        "id": "ixOc1zmOnxOF",
        "colab_type": "code",
        "outputId": "95a5b9b4-ea15-47e2-aeee-f6dc53300f6e",
        "colab": {
          "base_uri": "https://localhost:8080/",
          "height": 71
        }
      },
      "source": [
        "from __future__ import unicode_literals, print_function, division\n",
        "from io import open\n",
        "import glob\n",
        "import os\n",
        "import unicodedata\n",
        "import string\n",
        "\n",
        "all_letters = string.ascii_letters + \" .,;'-\"\n",
        "n_letters = len(all_letters) + 1 # Plus EOS marker\n",
        "\n",
        "def findFiles(path): \n",
        "  return glob.glob(path)\n",
        "\n",
        "\n",
        "# Turn a Unicode string to plain ASCII, thanks to https://stackoverflow.com/a/518232/2809427\n",
        "def unicodeToAscii(s):\n",
        "    return ''.join(\n",
        "        c for c in unicodedata.normalize('NFD', s)\n",
        "        if unicodedata.category(c) != 'Mn'\n",
        "        and c in all_letters\n",
        "    )\n",
        "\n",
        "def readLines(filename):\n",
        "    lines = open(filename, encoding='utf-8').read().strip().split('\\n')\n",
        "    return [unicodeToAscii(line) for line in lines]\n",
        "\n",
        "# Build the category_lines dictionary, a list of lines per category\n",
        "category_lines = {}\n",
        "all_categories = []\n",
        "\n",
        "files = findFiles('/content/data/*.txt')\n",
        "\n",
        "for filename in files:\n",
        "    category = os.path.splitext(os.path.basename(filename))[0]\n",
        "    all_categories.append(category)\n",
        "    lines = readLines(filename)\n",
        "    category_lines[category] = lines\n",
        "\n",
        "n_categories = len(all_categories)\n",
        "\n",
        "print('# categories:', n_categories, all_categories)\n",
        "print(unicodeToAscii(\"O'Néàl\"))\n"
      ],
      "execution_count": 0,
      "outputs": [
        {
          "output_type": "stream",
          "text": [
            "# categories: 18 ['Dutch', 'Spanish', 'Vietnamese', 'Italian', 'Russian', 'Japanese', 'French', 'Arabic', 'Chinese', 'English', 'Korean', 'Portuguese', 'German', 'Greek', 'Irish', 'Scottish', 'Czech', 'Polish']\n",
            "O'Neal\n"
          ],
          "name": "stdout"
        }
      ]
    },
    {
      "cell_type": "code",
      "metadata": {
        "id": "TiFJoMcWo2Ad",
        "colab_type": "code",
        "colab": {}
      },
      "source": [
        "import torch\n",
        "import torch.nn as nn\n",
        "\n",
        "class RNN(nn.Module): \n",
        "\n",
        "  def __init__(self, input_size, hidden_size, output_size):\n",
        "    super(RNN, self).__init__()\n",
        "    self.hidden_size = hidden_size\n",
        "\n",
        "    self.i2o = nn.Linear(n_categories + input_size + hidden_size, output_size)\n",
        "    self.i2h = nn.Linear(n_categories + input_size + hidden_size, hidden_size)\n",
        "    self.o2o = nn.Linear(hidden_size + output_size, output_size)\n",
        "    self.dropout = nn.Dropout(0.3)\n",
        "    self.softmax = nn.LogSoftmax(dim=1)\n",
        "\n",
        "  def forward(self, categoryTensor, inputTensor, hiddenTensor):\n",
        "    input_combined = torch.cat((categoryTensor, inputTensor, hiddenTensor), 1)\n",
        "    output = self.i2o(input_combined)\n",
        "    hidden = self.i2h(input_combined)\n",
        "    out_combined = torch.cat((hidden, output), 1)\n",
        "    output = self.o2o(out_combined)\n",
        "    output = self.dropout(output)\n",
        "    output = self.softmax(output)\n",
        "    return output, hidden\n",
        "  \n",
        "  def initHidden(self):\n",
        "    return torch.zeros(1, self.hidden_size)\n"
      ],
      "execution_count": 0,
      "outputs": []
    },
    {
      "cell_type": "code",
      "metadata": {
        "id": "klaOa1fHswDT",
        "colab_type": "code",
        "colab": {}
      },
      "source": [
        "# helper functions\n",
        "import random\n",
        "\n",
        "# Random item from a list\n",
        "def randomChoice(Lst):\n",
        "  return Lst[random.randint(0, len(Lst)-1)]\n",
        "\n",
        "# Get a random category and random line from that category\n",
        "def randomTrainingPair():\n",
        "  category = randomChoice(all_categories)\n",
        "  line = randomChoice(category_lines[category])\n",
        "  return category, line\n",
        "\n",
        "# One-hot vector for category\n",
        "def categoryTensor(category):\n",
        "  categoryTensor = torch.zeros(1, n_categories)\n",
        "  categoryTensor[0][all_categories.index(category)] = 1\n",
        "  return categoryTensor\n",
        "\n",
        "# One-hot matrix of first to last letters (not including EOS) for input\n",
        "def inputTensor(line):\n",
        "  tensor = torch.zeros(len(line),1,n_letters)\n",
        "  for li in range(len(line)):\n",
        "    letter = line[li]\n",
        "    tensor[li][0][all_letters.find(letter)] = 1\n",
        "  return tensor\n",
        "\n",
        "# LongTensor of second letter to end (EOS) for target\n",
        "def targetTensor(line):\n",
        "    letter_indexes = [all_letters.find(line[li]) for li in range(1, len(line))]\n",
        "    letter_indexes.append(n_letters - 1) # EOS\n",
        "    return torch.LongTensor(letter_indexes)"
      ],
      "execution_count": 0,
      "outputs": []
    },
    {
      "cell_type": "code",
      "metadata": {
        "id": "9uGNPSpewFuC",
        "colab_type": "code",
        "colab": {}
      },
      "source": [
        "def randomTrainingExample():\n",
        "  category, line = randomTrainingPair()\n",
        "  categoryT = categoryTensor(category)\n",
        "  inputT = inputTensor(line)\n",
        "  targetT = targetTensor(line)\n",
        "  return categoryT, inputT, targetT"
      ],
      "execution_count": 0,
      "outputs": []
    },
    {
      "cell_type": "code",
      "metadata": {
        "id": "xOQWoUGswS2z",
        "colab_type": "code",
        "colab": {}
      },
      "source": [
        "# training\n",
        "\n",
        "lr = 0.0005\n",
        "criterion = nn.NLLLoss()\n",
        "\n",
        "def train(categoryT, inputT, targetT):\n",
        "  targetT.unsqueeze_(-1)\n",
        "  hidden = rnn.initHidden()\n",
        "  rnn.zero_grad()\n",
        "  loss = 0\n",
        "\n",
        "  for i in range(1, inputT.size(0)):\n",
        "    output, hidden = rnn(categoryT, inputT[i], hidden)\n",
        "    l = criterion(output, targetT[i])\n",
        "    loss += l\n",
        "  \n",
        "  loss.backward()\n",
        "\n",
        "  for p in rnn.parameters():\n",
        "    p.data.add_(-lr, p.grad.data)\n",
        "\n",
        "  return output, loss.item() / inputT.size(0)"
      ],
      "execution_count": 0,
      "outputs": []
    },
    {
      "cell_type": "code",
      "metadata": {
        "id": "rKlBG_ov8K8w",
        "colab_type": "code",
        "colab": {}
      },
      "source": [
        "import time\n",
        "import math\n",
        "\n",
        "def timeSince(since):\n",
        "\n",
        "  now = time.time()\n",
        "  s = now - since\n",
        "  m = math.floor(s/60)\n",
        "  s = s - m*60\n",
        "  return '%d %d' % (m,s)"
      ],
      "execution_count": 0,
      "outputs": []
    },
    {
      "cell_type": "code",
      "metadata": {
        "id": "_-n2Xmgr5qQ8",
        "colab_type": "code",
        "outputId": "b4eb0df4-f7ba-40ea-d481-11ec227dec25",
        "colab": {
          "base_uri": "https://localhost:8080/",
          "height": 357
        }
      },
      "source": [
        "rnn = RNN(n_letters, 128, n_letters)\n",
        "\n",
        "iterations = 100000\n",
        "print_every = 5000\n",
        "plot_every = 500\n",
        "all_losses = []\n",
        "total_loss = 0\n",
        "start = time.time() \n",
        "\n",
        "for i in range(1, iterations+1):\n",
        "  output, loss = train(*randomTrainingExample())\n",
        "  total_loss += loss\n",
        "\n",
        "  if i % print_every == 0:\n",
        "    print('%s (%d %d%%) %.4f' % (timeSince(start), i, i / iterations * 100, loss))\n",
        "\n",
        "  if i % plot_every == 0:\n",
        "    all_losses.append(total_loss / plot_every)\n",
        "    total_loss = 0"
      ],
      "execution_count": 0,
      "outputs": [
        {
          "output_type": "stream",
          "text": [
            "0 13 (5000 5%) 2.9466\n",
            "0 27 (10000 10%) 2.7377\n",
            "0 40 (15000 15%) 3.3041\n",
            "0 54 (20000 20%) 2.6705\n",
            "1 7 (25000 25%) 2.4157\n",
            "1 21 (30000 30%) 3.5045\n",
            "1 35 (35000 35%) 2.8777\n",
            "1 48 (40000 40%) 2.3845\n",
            "2 2 (45000 45%) 2.4122\n",
            "2 15 (50000 50%) 2.4584\n",
            "2 29 (55000 55%) 1.9137\n",
            "2 43 (60000 60%) 2.5201\n",
            "2 56 (65000 65%) 2.8872\n",
            "3 10 (70000 70%) 3.0362\n",
            "3 23 (75000 75%) 2.0668\n",
            "3 37 (80000 80%) 1.1453\n",
            "3 51 (85000 85%) 3.5172\n",
            "4 4 (90000 90%) 1.4670\n",
            "4 18 (95000 95%) 2.3939\n",
            "4 31 (100000 100%) 1.9659\n"
          ],
          "name": "stdout"
        }
      ]
    },
    {
      "cell_type": "code",
      "metadata": {
        "id": "9heFCMpqSW_2",
        "colab_type": "code",
        "outputId": "afc8326f-25a1-4f29-ac95-5ed6c9a33f66",
        "colab": {
          "base_uri": "https://localhost:8080/",
          "height": 282
        }
      },
      "source": [
        "import matplotlib.pyplot as plt\n",
        "\n",
        "plt.figure()\n",
        "plt.plot(all_losses)"
      ],
      "execution_count": 0,
      "outputs": [
        {
          "output_type": "execute_result",
          "data": {
            "text/plain": [
              "[<matplotlib.lines.Line2D at 0x7fb486ffe3c8>]"
            ]
          },
          "metadata": {
            "tags": []
          },
          "execution_count": 127
        },
        {
          "output_type": "display_data",
          "data": {
            "image/png": "[encoded data removed]",
            "text/plain": [
              "<Figure size 432x288 with 1 Axes>"
            ]
          },
          "metadata": {
            "tags": []
          }
        }
      ]
    },
    {
      "cell_type": "code",
      "metadata": {
        "id": "1OTlrrZ4WYlZ",
        "colab_type": "code",
        "outputId": "7170989d-4e40-43d9-c6f5-81dde884a036",
        "colab": {
          "base_uri": "https://localhost:8080/",
          "height": 221
        }
      },
      "source": [
        "max_length = 20\n",
        "\n",
        "def sample(category, start_letter = 'A'):\n",
        "\n",
        "  with torch.no_grad():\n",
        "\n",
        "    inputT = inputTensor(start_letter)\n",
        "    categoryT = categoryTensor(category)\n",
        "    output_name = start_letter\n",
        "    hidden = rnn.initHidden()\n",
        "    \n",
        "    for i in range(max_length):\n",
        "      output, hidden = rnn(categoryT, inputT[0], hidden)\n",
        "      topv, topi = output.topk(1)\n",
        "      topi = topi[0][0]\n",
        "      if topi == n_letters-1:\n",
        "        break\n",
        "      else:\n",
        "        letter = all_letters[topi]\n",
        "        output_name += letter\n",
        "      inputT = inputTensor(letter)\n",
        "\n",
        "    return output_name\n",
        "\n",
        "# Get multiple samples from one category and multiple starting letters\n",
        "def samples(category, start_letters='ABC'):\n",
        "    for start_letter in start_letters:\n",
        "        print(sample(category, start_letter))\n",
        "\n",
        "samples('Vietnamese', 'VIE')\n",
        "\n",
        "samples('German', 'GER')\n",
        "\n",
        "samples('Spanish', 'SPA')\n",
        "\n",
        "samples('Chinese', 'CHI')"
      ],
      "execution_count": 0,
      "outputs": [
        {
          "output_type": "stream",
          "text": [
            "Van\n",
            "Ian\n",
            "Eann\n",
            "Ganton\n",
            "Eare\n",
            "Rer\n",
            "Sara\n",
            "Para\n",
            "Aamalar\n",
            "Can\n",
            "Ho\n",
            "Ian\n"
          ],
          "name": "stdout"
        }
      ]
    },
    {
      "cell_type": "code",
      "metadata": {
        "id": "vBDZGq5-bcFv",
        "colab_type": "code",
        "colab": {}
      },
      "source": [
        ""
      ],
      "execution_count": 0,
      "outputs": []
    }
  ]
}