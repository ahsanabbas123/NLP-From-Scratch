{
  "nbformat": 4,
  "nbformat_minor": 0,
  "metadata": {
    "colab": {
      "name": "ClassifyingNamesRNN.ipynb",
      "provenance": [],
      "authorship_tag": "ABX9TyMNXGx1mfFWA4FyxJuO4a3T",
      "include_colab_link": true
    },
    "kernelspec": {
      "name": "python3",
      "display_name": "Python 3"
    }
  },
  "cells": [
    {
      "cell_type": "markdown",
      "metadata": {
        "id": "view-in-github",
        "colab_type": "text"
      },
      "source": [
        "<a href=\"https://colab.research.google.com/github/ahsanabbas123/NLP-From-Scratch/blob/master/ClassifyingNamesRNN.ipynb\" target=\"_parent\"><img src=\"https://colab.research.google.com/assets/colab-badge.svg\" alt=\"Open In Colab\"/></a>"
      ]
    },
    {
      "cell_type": "code",
      "metadata": {
        "id": "weucJn727m1b",
        "colab_type": "code",
        "outputId": "fa20e03c-ce50-418f-c45c-f133ef6bd40a",
        "colab": {
          "base_uri": "https://localhost:8080/",
          "height": 71
        }
      },
      "source": [
        "from __future__ import unicode_literals, print_function, division\n",
        "from io import open\n",
        "import glob\n",
        "import os\n",
        "\n",
        "def findFiles(path):\n",
        "  return glob.glob(path)\n",
        "\n",
        "print(findFiles('/content/data/*.txt'))\n",
        "files = findFiles('/content/data/*.txt')\n",
        "\n",
        "import unicodedata\n",
        "import string\n",
        "\n",
        "all_letters = string.ascii_letters + \".,;'\"\n",
        "n_letters = len(all_letters)\n",
        "\n",
        "# Unicode to ASCII\n",
        "def unicodeToAscii(s):\n",
        "    return ''.join(\n",
        "        c for c in unicodedata.normalize('NFD', s)\n",
        "        if unicodedata.category(c) != 'Mn'\n",
        "        and c in all_letters\n",
        "    )\n",
        "\n",
        "print(unicodeToAscii('Ślusàrski'))\n",
        "\n",
        "category_lines = {}\n",
        "all_categories = []\n",
        "\n",
        "# read a file and split into lines\n",
        "def readLines(filename):\n",
        "  lines = open(filename, encoding = 'utf-8').read().strip().split('\\n')\n",
        "  return [unicodeToAscii(line) for line in lines]\n",
        "\n",
        "for filename in files:\n",
        "  category = os.path.splitext(os.path.basename(filename))[0]\n",
        "  all_categories.append(category)\n",
        "  lines = readLines(filename)\n",
        "  category_lines[category] = lines\n",
        "\n",
        "n_categories = len(all_categories) "
      ],
      "execution_count": 0,
      "outputs": [
        {
          "output_type": "stream",
          "text": [
            "['/content/data/Dutch.txt', '/content/data/Spanish.txt', '/content/data/Vietnamese.txt', '/content/data/Italian.txt', '/content/data/Russian.txt', '/content/data/Japanese.txt', '/content/data/French.txt', '/content/data/Arabic.txt', '/content/data/Chinese.txt', '/content/data/English.txt', '/content/data/Korean.txt', '/content/data/Portuguese.txt', '/content/data/German.txt', '/content/data/Greek.txt', '/content/data/Irish.txt', '/content/data/Scottish.txt', '/content/data/Czech.txt', '/content/data/Polish.txt']\n",
            "Slusarski\n"
          ],
          "name": "stdout"
        }
      ]
    },
    {
      "cell_type": "code",
      "metadata": {
        "id": "Mt0nJyJLBBNx",
        "colab_type": "code",
        "outputId": "6dae0c0d-6752-4d07-df5e-bd42a1241916",
        "colab": {
          "base_uri": "https://localhost:8080/",
          "height": 102
        }
      },
      "source": [
        "# one-hot vector encoding to tensors\n",
        "\n",
        "import torch\n",
        "\n",
        "def letterToIndex(letter):\n",
        "  return all_letters.find(letter)\n",
        "\n",
        "def letterToTensor(letter):\n",
        "  tensor = torch.zeros(1,n_letters)\n",
        "  tensor[0][letterToIndex(letter)] = 1\n",
        "  return tensor\n",
        "\n",
        "def lineToTensor(line):\n",
        "  tensor = torch.zeros(len(line),1, n_letters)\n",
        "  for li, letter in enumerate(line):\n",
        "    tensor[li][0][letterToIndex(letter)] = 1\n",
        "  return tensor\n",
        "\n",
        "print(letterToTensor('J'))\n",
        "print(lineToTensor('adfljh').size())"
      ],
      "execution_count": 0,
      "outputs": [
        {
          "output_type": "stream",
          "text": [
            "tensor([[0., 0., 0., 0., 0., 0., 0., 0., 0., 0., 0., 0., 0., 0., 0., 0., 0., 0.,\n",
            "         0., 0., 0., 0., 0., 0., 0., 0., 0., 0., 0., 0., 0., 0., 0., 0., 0., 1.,\n",
            "         0., 0., 0., 0., 0., 0., 0., 0., 0., 0., 0., 0., 0., 0., 0., 0., 0., 0.,\n",
            "         0., 0.]])\n",
            "torch.Size([6, 1, 56])\n"
          ],
          "name": "stdout"
        }
      ]
    },
    {
      "cell_type": "code",
      "metadata": {
        "id": "XStmk4kCEm9Z",
        "colab_type": "code",
        "colab": {}
      },
      "source": [
        "# Creating the network\n",
        "import torch.nn as nn\n",
        "\n",
        "class RNN(nn.Module):\n",
        "\n",
        "  def __init__(self, input_size, hidden_size, output_size):\n",
        "    super(RNN, self).__init__()\n",
        "    \n",
        "    self.hidden_size = hidden_size\n",
        "\n",
        "    self.i2o = nn.Linear(input_size + hidden_size, output_size)\n",
        "    self.i2h = nn.Linear(input_size + hidden_size, hidden_size)\n",
        "\n",
        "    self.softmax = nn.LogSoftmax(dim=1)\n",
        "\n",
        "  def forward(self, input, hidden):\n",
        "    combined = torch.cat((input, hidden),1)\n",
        "    hidden = self.i2h(combined)\n",
        "    output = self.i2o(combined)\n",
        "    output = self.softmax(output)\n",
        "    return output, hidden\n",
        "  \n",
        "  def initHidden(self):\n",
        "    return torch.zeros(1, self.hidden_size)"
      ],
      "execution_count": 0,
      "outputs": []
    },
    {
      "cell_type": "code",
      "metadata": {
        "id": "0I9UYrwtlien",
        "colab_type": "code",
        "outputId": "2aea0e52-7c02-4eb9-91e7-cf416d0268ce",
        "colab": {
          "base_uri": "https://localhost:8080/",
          "height": 68
        }
      },
      "source": [
        "# running one step\n",
        "n_hidden = 128\n",
        "rnn = RNN(n_letters, n_hidden, n_categories)\n",
        "input = lineToTensor('Albert')\n",
        "hidden = torch.zeros(1, n_hidden)\n",
        "\n",
        "output, next_hidden = rnn(input[0], hidden)\n",
        "print (output) "
      ],
      "execution_count": 0,
      "outputs": [
        {
          "output_type": "stream",
          "text": [
            "tensor([[-2.8456, -2.9116, -2.8017, -2.8282, -2.8238, -2.8599, -2.9223, -2.9537,\n",
            "         -2.9045, -2.9351, -2.9035, -3.0051, -2.8668, -3.0024, -2.9064, -2.9250,\n",
            "         -2.7780, -2.8865]], grad_fn=<LogSoftmaxBackward>)\n"
          ],
          "name": "stdout"
        }
      ]
    },
    {
      "cell_type": "code",
      "metadata": {
        "id": "fg02El_MmPsg",
        "colab_type": "code",
        "outputId": "7778db9c-a78f-469d-d49b-b95ea2cc3fd1",
        "colab": {
          "base_uri": "https://localhost:8080/",
          "height": 204
        }
      },
      "source": [
        "# helper functions\n",
        "\n",
        "# interpret the output \n",
        "def categoryFromOutput(output):\n",
        "  values, indices = output.topk(1)\n",
        "  category_index = indices[0].item()\n",
        "  return all_categories[category_index], category_index\n",
        "\n",
        "print(categoryFromOutput(output))\n",
        "\n",
        "# to get a random sample quickly\n",
        "import random\n",
        "\n",
        "def randomChoice(Lst):\n",
        "  return Lst[random.randint(0, len(Lst)-1)]\n",
        "\n",
        "\n",
        "def randomTrainingExample():\n",
        "  # choose a category i.e a random country\n",
        "  category = randomChoice(all_categories)\n",
        "  # line is a random word here in a specific country\n",
        "  line = randomChoice(category_lines[category])\n",
        "  # their tensors\n",
        "  category_tensor = torch.tensor([all_categories.index(category)], dtype=torch.long)\n",
        "  line_tensor = lineToTensor(line)\n",
        "  return category, line, category_tensor, line_tensor\n",
        "\n",
        "for i in range(10):\n",
        "    category, line, category_tensor, line_tensor = randomTrainingExample()\n",
        "    print('category =', category, '/ line =', line)"
      ],
      "execution_count": 0,
      "outputs": [
        {
          "output_type": "stream",
          "text": [
            "('Czech', 16)\n",
            "category = Spanish / line = Robledo\n",
            "category = Italian / line = Allegri\n",
            "category = Russian / line = Bagomaev\n",
            "category = Arabic / line = Nassar\n",
            "category = Czech / line = Grozmanova\n",
            "category = Irish / line = Mohan\n",
            "category = Italian / line = Dipietro\n",
            "category = Spanish / line = Oliver\n",
            "category = Irish / line = Cathan\n",
            "category = English / line = Calvert\n"
          ],
          "name": "stdout"
        }
      ]
    },
    {
      "cell_type": "code",
      "metadata": {
        "id": "IkMt5cFJrzzg",
        "colab_type": "code",
        "colab": {}
      },
      "source": [
        "# training the network: \n",
        "\n",
        "criterion = nn.NLLLoss()\n",
        "\n",
        "lr = 0.005\n",
        "\n",
        "def train(category_tensor, line_tensor):\n",
        "  hidden = rnn.initHidden()\n",
        "  rnn.zero_grad()\n",
        "\n",
        "  for i in range(line_tensor.size()[0]):\n",
        "    output, hidden = rnn(line_tensor[i], hidden)\n",
        "  \n",
        "  loss = criterion(output, category_tensor)\n",
        "  loss.backward()\n",
        "\n",
        "  for p in rnn.parameters():\n",
        "    p.data.add_(-lr, p.grad.data)\n",
        "\n",
        "  return output, loss.item()"
      ],
      "execution_count": 0,
      "outputs": []
    },
    {
      "cell_type": "code",
      "metadata": {
        "id": "bARTmrR9uGSW",
        "colab_type": "code",
        "outputId": "8e5063dc-5d63-475c-c819-6f82d76509fb",
        "colab": {
          "base_uri": "https://localhost:8080/",
          "height": 357
        }
      },
      "source": [
        "import time \n",
        "import math\n",
        "\n",
        "n_iters = 100000\n",
        "print_every = 5000\n",
        "plot_every = 1000\n",
        "\n",
        "current_loss = 0\n",
        "all_losses = []\n",
        "\n",
        "def timeSince(since):\n",
        "  now = time.time()\n",
        "  s = now - since\n",
        "  m = math.floor(s / 60)\n",
        "  s -= m * 60\n",
        "  return '%dm %ds' % (m, s)\n",
        "\n",
        "start = time.time()\n",
        "\n",
        "for iter in range(1, n_iters + 1):\n",
        "  \n",
        "  category, line, category_tensor, line_tensor = randomTrainingExample()\n",
        "  output, loss = train(category_tensor, line_tensor)\n",
        "  current_loss += loss\n",
        "\n",
        "  if iter % print_every == 0:\n",
        "    guess, guess_i = categoryFromOutput(output)\n",
        "    correct = 'correct!' if guess == category else 'wrong! (%s)' % category\n",
        "    print('%d %d%% (%s) %.4f %s / %s %s' % (iter, iter / n_iters * 100, timeSince(start), loss, line, guess, correct)) \n",
        "  \n",
        "  if iter % plot_every == 0:\n",
        "    all_losses.append(current_loss / plot_every)\n",
        "    current_loss = 0"
      ],
      "execution_count": 0,
      "outputs": [
        {
          "output_type": "stream",
          "text": [
            "5000 5% (0m 6s) 2.1186 Mulinov / Russian correct!\n",
            "10000 10% (0m 12s) 3.0668 Young / Vietnamese wrong! (Scottish)\n",
            "15000 15% (0m 19s) 3.6454 Hughes / Vietnamese wrong! (Scottish)\n",
            "20000 20% (0m 25s) 1.4006 Modugno / Italian correct!\n",
            "25000 25% (0m 32s) 2.2010 Yanko / Polish wrong! (Russian)\n",
            "30000 30% (0m 38s) 0.7989 Hagiwara / Japanese correct!\n",
            "35000 35% (0m 45s) 2.0415 Walker / German wrong! (Scottish)\n",
            "40000 40% (0m 51s) 2.5316 Haanraads / Portuguese wrong! (Dutch)\n",
            "45000 45% (0m 57s) 0.9059 Narvaez / Spanish correct!\n",
            "50000 50% (1m 4s) 3.2632 Macias / Portuguese wrong! (Spanish)\n",
            "55000 55% (1m 10s) 0.6804 Ran / Chinese correct!\n",
            "60000 60% (1m 16s) 1.3389 White / Scottish correct!\n",
            "65000 65% (1m 23s) 0.2294 Slusarczyk / Polish correct!\n",
            "70000 70% (1m 29s) 0.7280 Demas / Greek correct!\n",
            "75000 75% (1m 35s) 0.6838 Ra / Korean correct!\n",
            "80000 80% (1m 42s) 2.1313 Klerkse / Greek wrong! (Dutch)\n",
            "85000 85% (1m 48s) 0.1744 Truong / Vietnamese correct!\n",
            "90000 90% (1m 54s) 0.1931 Tsuruga / Japanese correct!\n",
            "95000 95% (2m 0s) 2.0831 Labriola / Spanish wrong! (Italian)\n",
            "100000 100% (2m 7s) 0.3304 O'Dell / Irish correct!\n"
          ],
          "name": "stdout"
        }
      ]
    },
    {
      "cell_type": "code",
      "metadata": {
        "id": "07BiQLKT1dQt",
        "colab_type": "code",
        "outputId": "633b2c35-04ff-4a08-b6de-0ff052ead164",
        "colab": {
          "base_uri": "https://localhost:8080/",
          "height": 282
        }
      },
      "source": [
        "import matplotlib.pyplot as plt\n",
        "import matplotlib.ticker as ticker\n",
        "\n",
        "plt.figure()\n",
        "plt.plot(all_losses)"
      ],
      "execution_count": 0,
      "outputs": [
        {
          "output_type": "execute_result",
          "data": {
            "text/plain": [
              "[<matplotlib.lines.Line2D at 0x7f488cea0c18>]"
            ]
          },
          "metadata": {
            "tags": []
          },
          "execution_count": 81
        },
        {
          "output_type": "display_data",
          "data": {
            "image/png": "[encoded data removed]",
            "text/plain": [
              "<Figure size 432x288 with 1 Axes>"
            ]
          },
          "metadata": {
            "tags": []
          }
        }
      ]
    },
    {
      "cell_type": "code",
      "metadata": {
        "id": "xH-syr-44U3r",
        "colab_type": "code",
        "outputId": "fea11828-686f-48b9-cf32-c54de8001a05",
        "colab": {
          "base_uri": "https://localhost:8080/",
          "height": 320
        }
      },
      "source": [
        "# evaluation\n",
        "confusion = torch.zeros(n_categories, n_categories)\n",
        "n_confusion = 10000\n",
        "\n",
        "def evaluate(line_tensor):\n",
        "  hidden = rnn.initHidden()\n",
        "\n",
        "  for i in range(line_tensor.size()[0]):\n",
        "    output, hidden = rnn(line_tensor[i], hidden)\n",
        "  \n",
        "  return output\n",
        "\n",
        "# Going through examples and recording which are correct\n",
        "\n",
        "for i in range(n_confusion):\n",
        "  category, line, category_tensor, line_tensor = randomTrainingExample()\n",
        "  output = evaluate(line_tensor)\n",
        "  guess, guess_i = categoryFromOutput(output)\n",
        "  category_i = all_categories.index(category)\n",
        "  confusion[category_i][guess_i] += 1\n",
        "\n",
        "# normalize the confusion matrix\n",
        "for i in range(n_categories):\n",
        "  confusion[i] = confusion[i] / confusion[i].sum()\n",
        "\n",
        "#  Set up plot\n",
        "fig = plt.figure()\n",
        "ax = fig.add_subplot(111)\n",
        "cax = ax.matshow(confusion.numpy())\n",
        "fig.colorbar(cax)\n",
        "\n",
        "# Set up axes\n",
        "ax.set_xticklabels([''] + all_categories, rotation=90)\n",
        "ax.set_yticklabels([''] + all_categories)\n",
        "\n",
        "# Force label at every tick\n",
        "ax.xaxis.set_major_locator(ticker.MultipleLocator(1))\n",
        "ax.yaxis.set_major_locator(ticker.MultipleLocator(1))\n",
        "\n",
        "# sphinx_gallery_thumbnail_number = 2\n",
        "plt.show()"
      ],
      "execution_count": 0,
      "outputs": [
        {
          "output_type": "display_data",
          "data": {
            "image/png": "[encoded data removed]",
            "text/plain": [
              "<Figure size 432x288 with 2 Axes>"
            ]
          },
          "metadata": {
            "tags": []
          }
        }
      ]
    },
    {
      "cell_type": "code",
      "metadata": {
        "id": "MHKmOUvdAAVZ",
        "colab_type": "code",
        "colab": {}
      },
      "source": [
        "# predicting on input\n",
        "\n",
        "def predict(input_line, n_predictions=3):\n",
        "  print('\\n> %s' % input_line)\n",
        "  with torch.no_grad():\n",
        "    output = evaluate(lineToTensor(input_line))\n",
        "\n",
        "    topv, topi = output.topk(n_predictions)\n",
        "    predictions = []\n",
        "    for i in range(n_predictions):\n",
        "      value = topv[0][i].item()\n",
        "      category_index = topi[0][i].item()\n",
        "      print('(%.2f) %s' % (value, all_categories[category_index]))\n",
        "      predictions.append([value, all_categories[category_index]])\n",
        "\n"
      ],
      "execution_count": 0,
      "outputs": []
    },
    {
      "cell_type": "code",
      "metadata": {
        "id": "DQgmKniHEwRk",
        "colab_type": "code",
        "outputId": "02621e70-20bf-4f43-cd3f-ff14a82bfd3b",
        "colab": {
          "base_uri": "https://localhost:8080/",
          "height": 357
        }
      },
      "source": [
        "predict('Issa')\n",
        "predict('Rafi')\n",
        "predict('Jamil')\n",
        "predict('Rustom')"
      ],
      "execution_count": 0,
      "outputs": [
        {
          "output_type": "stream",
          "text": [
            "\n",
            "> Issa\n",
            "(-1.25) Japanese\n",
            "(-1.53) Czech\n",
            "(-1.55) Arabic\n",
            "\n",
            "> Rafi\n",
            "(-0.22) Italian\n",
            "(-2.88) Korean\n",
            "(-3.24) Irish\n",
            "\n",
            "> Jamil\n",
            "(-0.72) Czech\n",
            "(-2.16) Russian\n",
            "(-2.38) Arabic\n",
            "\n",
            "> Rustom\n",
            "(-1.33) Spanish\n",
            "(-1.67) English\n",
            "(-1.87) French\n"
          ],
          "name": "stdout"
        }
      ]
    },
    {
      "cell_type": "code",
      "metadata": {
        "id": "zTsjsLEQULiq",
        "colab_type": "code",
        "colab": {}
      },
      "source": [
        ""
      ],
      "execution_count": 0,
      "outputs": []
    }
  ]
}